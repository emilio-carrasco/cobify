{
 "cells": [
  {
   "cell_type": "code",
   "execution_count": 1,
   "id": "32b6da84",
   "metadata": {
    "scrolled": false
   },
   "outputs": [],
   "source": [
    "import WazeRouteCalculator\n",
    "import logging\n",
    "\n",
    "logger = logging.getLogger('WazeRouteCalculator.WazeRouteCalculator')\n",
    "logger.setLevel(logging.DEBUG)\n",
    "handler = logging.StreamHandler()\n",
    "logger.addHandler(handler)\n"
   ]
  },
  {
   "cell_type": "code",
   "execution_count": 2,
   "id": "e6f6c043",
   "metadata": {
    "scrolled": true
   },
   "outputs": [],
   "source": [
    "def estimador_ruta(dir_ini,dir_fin,ciudad_ini='Madrid',ciudad_fin='Madrid',pais_ini='Spain', pais_fin='Spain', region ='EU'):\n",
    "    \n",
    "    from_address=', '.join([dir_ini, ciudad_ini, pais_ini])\n",
    "    to_address=', '.join([dir_fin, ciudad_fin, pais_fin])\n",
    "    route = WazeRouteCalculator.WazeRouteCalculator(from_address, to_address, region)\n",
    "    ruta = route.get_route();\n",
    "    info = route.calc_route_info();\n",
    "    avg_speed = 60 * info[1] / info[0]\n",
    "    return(info[0], info[1], avg_speed)\n"
   ]
  },
  {
   "cell_type": "code",
   "execution_count": 3,
   "id": "241361d3",
   "metadata": {},
   "outputs": [
    {
     "output_type": "stream",
     "name": "stderr",
     "text": [
      "From: paseo del limonar 9 malaga, Madrid, Spain - to: avenida de los toreros, 24, Madrid, Spain\n",
      "Start coords: (36.725341796875, -4.398640155792236)\n",
      "End coords: (40.43382263183594, -3.664060592651367)\n",
      "Time 274.15 minutes, distance 533.26 km.\n"
     ]
    },
    {
     "output_type": "execute_result",
     "data": {
      "text/plain": [
       "(274.15, 533.256, 116.70749589640708)"
      ]
     },
     "metadata": {},
     "execution_count": 3
    }
   ],
   "source": [
    "origen='paseo del limonar 9 malaga'\n",
    "destino=\"avenida de los toreros, 24\"\n",
    "estimador_ruta(origen,destino)"
   ]
  },
  {
   "cell_type": "code",
   "execution_count": null,
   "id": "5c395780",
   "metadata": {},
   "outputs": [],
   "source": []
  }
 ],
 "metadata": {
  "kernelspec": {
   "display_name": "Python 3",
   "language": "python",
   "name": "python3"
  }
 },
 "nbformat": 4,
 "nbformat_minor": 5
}