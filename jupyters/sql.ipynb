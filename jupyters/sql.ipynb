{
 "cells": [
  {
   "cell_type": "code",
   "execution_count": 1,
   "id": "db78293c",
   "metadata": {},
   "outputs": [],
   "source": [
    "import sqlalchemy as alch\n",
    "import pandas as pd\n",
    "import config.config as conf\n",
    "from config.config. import engine\n"
   ]
  },
  {
   "cell_type": "code",
   "execution_count": 8,
   "id": "f955eae5",
   "metadata": {
    "scrolled": true
   },
   "outputs": [],
   "source": [
    "\n",
    "df=pd.read_csv('./data/data_clean.csv')\n"
   ]
  },
  {
   "cell_type": "code",
   "execution_count": 9,
   "id": "9a8b3ff7",
   "metadata": {},
   "outputs": [],
   "source": [
    "def eliminar():\n",
    "    engine.execute(f\"\"\"\n",
    "    DROP DATABASE cobify;\"\"\")\n",
    "    return \"DROPPED DB\"    "
   ]
  },
  {
   "cell_type": "code",
   "execution_count": 11,
   "id": "ea519e2d",
   "metadata": {},
   "outputs": [],
   "source": [
    "def carga_df(df):\n",
    "    df.to_sql('rides', con=engine, if_exists='append', index = False)"
   ]
  },
  {
   "cell_type": "code",
   "execution_count": 12,
   "id": "f9caad7c",
   "metadata": {},
   "outputs": [],
   "source": [
    "def crea():\n",
    "    engine.execute(\"\"\"\"\n",
    "    CREATE DATABASE IF NOT EXISTS cobify;\n",
    "    CREATE TABLE IF NOT EXISTS cobify.rides (\n",
    "    `id_ride` INT NOT NULL AUTO_INCREMENT,\n",
    "    `distance` FLOAT NOT NULL,\n",
    "    `consume` FLOAT NOT NULL,\n",
    "    `speed` FLOAT NOT NULL,\n",
    "    `temp_inside` FLOAT NULL,\n",
    "    `temp_outside` FLOAT NULL,\n",
    "    `gas_type` VARCHAR(10) NOT NULL,\n",
    "    `AC` BINARY NULL DEFAULT false,\n",
    "    `rain` BINARY NULL DEFAULT false,\n",
    "    `sun` BINARY NULL DEFAULT false,\n",
    "    `snow` BINARY NULL DEFAULT false,\n",
    "    `date_time` DATETIME NULL DEFAULT NOW(),\n",
    "    PRIMARY KEY (`id_ride`),\n",
    "    UNIQUE INDEX `id_ride_UNIQUE` (`id_ride` ASC) VISIBLE)\n",
    "    \"\"\")\n",
    "    return (\"Tables created\")"
   ]
  },
  {
   "cell_type": "code",
   "execution_count": null,
   "id": "2664f63a",
   "metadata": {},
   "outputs": [],
   "source": []
  }
 ],
 "metadata": {
  "kernelspec": {
   "display_name": "Python 3",
   "language": "python",
   "name": "python3"
  },
  "language_info": {
   "codemirror_mode": {
    "name": "ipython",
    "version": 3
   },
   "file_extension": ".py",
   "mimetype": "text/x-python",
   "name": "python",
   "nbconvert_exporter": "python",
   "pygments_lexer": "ipython3",
   "version": "3.8.5"
  }
 },
 "nbformat": 4,
 "nbformat_minor": 5
}