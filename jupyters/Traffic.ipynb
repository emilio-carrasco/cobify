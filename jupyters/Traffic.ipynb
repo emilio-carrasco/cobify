{
 "cells": [
  {
   "cell_type": "code",
   "execution_count": 1,
   "id": "32b6da84",
   "metadata": {
    "scrolled": false
   },
   "outputs": [],
   "source": [
    "import WazeRouteCalculator\n",
    "import logging\n",
    "\n",
    "logger = logging.getLogger('WazeRouteCalculator.WazeRouteCalculator')\n",
    "logger.setLevel(logging.DEBUG)\n",
    "handler = logging.StreamHandler()\n",
    "logger.addHandler(handler)\n"
   ]
  },
  {
   "cell_type": "code",
   "execution_count": 2,
   "id": "e6f6c043",
   "metadata": {
    "scrolled": true
   },
   "outputs": [],
   "source": [
    "def estimador_ruta(dir_ini,dir_fin,ciudad_ini='Madrid',ciudad_fin='Madrid',pais_ini='Spain', pais_fin='Spain', region ='EU'):\n",
    "    \n",
    "    from_address=', '.join([dir_ini, ciudad_ini, pais_ini])\n",
    "    to_address=', '.join([dir_fin, ciudad_fin, pais_fin])\n",
    "    route = WazeRouteCalculator.WazeRouteCalculator(from_address, to_address, region)\n",
    "    ruta = route.get_route();\n",
    "    info = route.calc_route_info();\n",
    "    avg_speed = 60 * info[1] / info[0]\n",
    "    return(info[0], info[1], avg_speed)\n"
   ]
  }
 ],
 "metadata": {
  "kernelspec": {
   "display_name": "Python 3",
   "language": "python",
   "name": "python3"
  },
  "language_info": {
   "codemirror_mode": {
    "name": "ipython",
    "version": 3
   },
   "file_extension": ".py",
   "mimetype": "text/x-python",
   "name": "python",
   "nbconvert_exporter": "python",
   "pygments_lexer": "ipython3",
   "version": "3.8.5"
  }
 },
 "nbformat": 4,
 "nbformat_minor": 5
}
